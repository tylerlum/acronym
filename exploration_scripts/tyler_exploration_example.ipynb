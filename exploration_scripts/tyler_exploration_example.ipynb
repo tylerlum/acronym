{
 "cells": [
  {
   "cell_type": "markdown",
   "metadata": {},
   "source": [
    "# ACRONYM Dataset Exploration Example"
   ]
  },
  {
   "cell_type": "markdown",
   "metadata": {},
   "source": [
    "## Input Params"
   ]
  },
  {
   "cell_type": "code",
   "execution_count": null,
   "metadata": {},
   "outputs": [],
   "source": [
    "mesh_root = \"../data/examples/\"\n",
    "filepath = \"../data/examples/grasps/Mug_10f6e09036350e92b3f21f1137c3c347_0.0002682457830986903.h5\"\n",
    "num_grasps = 20"
   ]
  },
  {
   "cell_type": "code",
   "execution_count": null,
   "metadata": {},
   "outputs": [],
   "source": [
    "RED = [255, 0, 0]\n",
    "GREEN = [0, 255, 0]\n",
    "BLUE = [0, 0, 255]"
   ]
  },
  {
   "cell_type": "markdown",
   "metadata": {},
   "source": [
    "## Read Mesh"
   ]
  },
  {
   "cell_type": "code",
   "execution_count": null,
   "metadata": {},
   "outputs": [],
   "source": [
    "import h5py\n",
    "import trimesh\n",
    "import os\n",
    "\n",
    "# Read in mesh\n",
    "scale = None\n",
    "data = h5py.File(filepath, \"r\")\n",
    "mesh_fname = data[\"object/file\"][()].decode('utf-8')\n",
    "mesh_scale = data[\"object/scale\"][()] if scale is None else scale\n",
    "obj_mesh = trimesh.load(os.path.join(mesh_root, mesh_fname))\n",
    "obj_mesh = obj_mesh.apply_scale(mesh_scale)"
   ]
  },
  {
   "cell_type": "code",
   "execution_count": null,
   "metadata": {},
   "outputs": [],
   "source": [
    "obj_mesh"
   ]
  },
  {
   "cell_type": "markdown",
   "metadata": {},
   "source": [
    "## Read Grasps"
   ]
  },
  {
   "cell_type": "code",
   "execution_count": null,
   "metadata": {},
   "outputs": [],
   "source": [
    "# Get grasps\n",
    "import numpy as np\n",
    "transforms = np.array(data[\"grasps/transforms\"])\n",
    "success = np.array(data[\"grasps/qualities/flex/object_in_gripper\"])"
   ]
  },
  {
   "cell_type": "code",
   "execution_count": null,
   "metadata": {},
   "outputs": [],
   "source": [
    "transforms.shape"
   ]
  },
  {
   "cell_type": "code",
   "execution_count": null,
   "metadata": {},
   "outputs": [],
   "source": [
    "success.shape"
   ]
  },
  {
   "cell_type": "markdown",
   "metadata": {},
   "source": [
    "## Visualize Grasps"
   ]
  },
  {
   "cell_type": "code",
   "execution_count": null,
   "metadata": {
    "lines_to_next_cell": 2
   },
   "outputs": [],
   "source": [
    "# Visualize grasps\n",
    "from acronym_tools import create_gripper_marker\n",
    "successful_grasps = [\n",
    "    create_gripper_marker(color=GREEN).apply_transform(t)\n",
    "    for t in transforms[np.random.choice(np.where(success == 1)[0], num_grasps)]\n",
    "]\n",
    "failed_grasps = [\n",
    "    create_gripper_marker(color=RED).apply_transform(t)\n",
    "    for t in transforms[np.random.choice(np.where(success == 0)[0], num_grasps)]\n",
    "]\n",
    "\n",
    "trimesh.Scene([obj_mesh] + successful_grasps + failed_grasps).show()"
   ]
  },
  {
   "cell_type": "code",
   "execution_count": null,
   "metadata": {
    "lines_to_next_cell": 2
   },
   "outputs": [],
   "source": [
    "# Visualize identity transform grasp, identity + z translation, identity + z + x translation\n",
    "identity = np.eye(4)\n",
    "\n",
    "identity_plus_z = np.eye(4)\n",
    "identity_plus_z[:3, 3] = [0.0, 0.0, 0.1]\n",
    "\n",
    "identity_plus_xz = np.eye(4)\n",
    "identity_plus_xz[:3, 3] = [0.1, 0.0, 0.1]\n",
    "\n",
    "transform_color_pairs = [\n",
    "    (identity, RED),\n",
    "    (identity_plus_z, GREEN),\n",
    "    (identity_plus_xz, BLUE),\n",
    "]\n",
    "\n",
    "grasps = [\n",
    "    create_gripper_marker(color=color).apply_transform(transform)\n",
    "    for transform, color in transform_color_pairs\n",
    "]\n",
    "\n",
    "trimesh.Scene([obj_mesh] + grasps).show()"
   ]
  },
  {
   "cell_type": "markdown",
   "metadata": {},
   "source": [
    "## Look Into HDF5 File"
   ]
  },
  {
   "cell_type": "code",
   "execution_count": null,
   "metadata": {},
   "outputs": [],
   "source": [
    "data.keys()"
   ]
  },
  {
   "cell_type": "code",
   "execution_count": null,
   "metadata": {},
   "outputs": [],
   "source": [
    "def print_attrs(name, obj):\n",
    "    if isinstance(obj, h5py.Group):\n",
    "        print(name)\n",
    "    else:\n",
    "        print(f\"{name}: {obj.shape}\")\n",
    "\n",
    "data.visititems(print_attrs)"
   ]
  },
  {
   "cell_type": "code",
   "execution_count": null,
   "metadata": {},
   "outputs": [],
   "source": [
    "root_keys = []\n",
    "def store_root_keys(name, obj):\n",
    "    if not isinstance(obj, h5py.Group):\n",
    "        root_keys.append(name)\n",
    "\n",
    "data.visititems(store_root_keys)\n",
    "root_keys"
   ]
  },
  {
   "cell_type": "code",
   "execution_count": null,
   "metadata": {},
   "outputs": [],
   "source": [
    "root_keys_with_multiple_values = [key for key in root_keys if len(data[key].shape) > 0]\n",
    "root_keys_with_multiple_values"
   ]
  },
  {
   "cell_type": "code",
   "execution_count": null,
   "metadata": {},
   "outputs": [],
   "source": [
    "root_keys_with_single_value = [key for key in root_keys if key not in root_keys_with_multiple_values]\n",
    "root_keys_with_single_value"
   ]
  },
  {
   "cell_type": "code",
   "execution_count": null,
   "metadata": {},
   "outputs": [],
   "source": [
    "import matplotlib.pyplot as plt\n",
    "import math\n",
    "num_plots = len(root_keys_with_multiple_values)\n",
    "num_rows = int(math.sqrt(num_plots))\n",
    "num_cols = int(math.ceil(num_plots / num_rows))\n",
    "\n",
    "fig, axes = plt.subplots(nrows=num_rows, ncols=num_cols, figsize=(20, 20))\n",
    "axes = axes.flatten()\n",
    "for i, root_key_with_multiple_values in enumerate(root_keys_with_multiple_values):\n",
    "    ax = axes[i]\n",
    "    ax.hist(np.array(data[root_key_with_multiple_values]).flatten())\n",
    "    ax.set_title(root_key_with_multiple_values)\n",
    "\n",
    "fig.tight_layout()"
   ]
  },
  {
   "cell_type": "code",
   "execution_count": null,
   "metadata": {
    "tags": []
   },
   "outputs": [],
   "source": [
    "for root_key_with_single_value in root_keys_with_single_value:\n",
    "    print(f\"{root_key_with_single_value}: {data[root_key_with_single_value][()]}\")"
   ]
  }
 ],
 "metadata": {
  "jupytext": {
   "formats": "ipynb,py:percent"
  },
  "kernelspec": {
   "display_name": "Python 3 (ipykernel)",
   "language": "python",
   "name": "python3"
  },
  "language_info": {
   "codemirror_mode": {
    "name": "ipython",
    "version": 3
   },
   "file_extension": ".py",
   "mimetype": "text/x-python",
   "name": "python",
   "nbconvert_exporter": "python",
   "pygments_lexer": "ipython3",
   "version": "3.8.16"
  }
 },
 "nbformat": 4,
 "nbformat_minor": 4
}
