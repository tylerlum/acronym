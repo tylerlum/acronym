{
 "cells": [
  {
   "cell_type": "markdown",
   "id": "d8fd2507-02dd-4307-a8b9-cffbe87f3d78",
   "metadata": {},
   "source": [
    "# ShapeNetSem Restructure\n",
    "\n",
    "## INPUTS\n",
    "\n",
    "```\n",
    "{input_acronym_dir}\n",
    "├── 1Shelves_12a64182bbaee7a12b2444829a3507de_0.00914554366969263.h5\n",
    "├── 1Shelves_160684937ae737ec5057ad0f363d6ddd_0.009562610447288044.h5\n",
    "├── 1Shelves_1e3df0ab57e8ca8587f357007f9e75d1_0.011099225885734912.h5\n",
    "├── 1Shelves_2b9d60c74bc0d18ad8eae9bce48bbeed_0.00614208274225087.h5\n",
    "\n",
    "{input_shapenetsem_dir}\n",
    "├── 1004f30be305f33d28a1548e344f0e2e.mtl\n",
    "├── 1004f30be305f33d28a1548e344f0e2e.obj\n",
    "├── 100f39dce7690f59efb94709f30ce0d2.mtl\n",
    "├── 100f39dce7690f59efb94709f30ce0d2.obj\n",
    "\n",
    "{input_shapenetsem_texture_dir}\n",
    "├── 0004f1000ab18a48.jpg\n",
    "├── 000b6c4b5b7a8dc3.jpg\n",
    "├── 000c33be903cedc5.jpg\n",
    "├── 000ec8dadff7bc1c.jpg\n",
    "```\n",
    "\n",
    "## OUTPUTS\n",
    "\n",
    "```\n",
    "{output_shapenetsem_dir}\n",
    "└── meshes\n",
    "    ├── Mug\n",
    "    │   └── 10f6e09036350e92b3f21f1137c3c347.obj\n",
    "    └── Table\n",
    "        └── 99cf659ae2fe4b87b72437fd995483b.obj\n",
    "\n",
    "```\n",
    "Also, in addition to the .obj file, we also want to add in the .mtl file with the same name and the .jpg associated with the .mtl\n",
    "\n",
    "## NOTES\n",
    "\n",
    "* 24980 files in ShapeNetSem, half are mtl and half are obj, so total of 12490\n",
    "* 8836 files in grasps from acronym\n",
    "* each acronym file should have a corresponding shapenetsem file (8836 x 2 outputs for obj and mtl)\n",
    "* each acronym file has a filename path to mesh file that looks like meshes/Mug/10f6e09036350e92b3f21f1137c3c347.obj\n",
    "* the shapenetsem files have a name but they don't match exactly\n",
    "* there can be more than one mesh per category (eg. multiple under the TV directory)\n",
    "* there can also be more than one acronym file per mesh (eg. multiple grasps for the same mesh )\n",
    "  eg. \"data/grasps/TV_dfbce5e6cca00c1448627a76b6268107_0.0038627305095302734.h5\"\n",
    "      \"data/grasps/TV_dfbce5e6cca00c1448627a76b6268107_0.003957748840105706.h5\"\n",
    "\n",
    "## PIPELINE:\n",
    "\n",
    "0. create new directory for restructured shapenetsem\n",
    "1. for each acronym file, get the mesh filename (from acronym filename and from data within)\n",
    "2. validate that the two mesh filenames match\n",
    "3. copy mesh file from shapenetsem to new directory with correct directory name"
   ]
  },
  {
   "cell_type": "code",
   "execution_count": null,
   "id": "843fca05-0a78-4a25-86d1-10158d2dd0c6",
   "metadata": {},
   "outputs": [],
   "source": [
    "import subprocess\n",
    "import os\n",
    "import h5py\n",
    "from tqdm import tqdm"
   ]
  },
  {
   "cell_type": "code",
   "execution_count": null,
   "id": "ab355fb3-0434-48ba-9831-e3caa4227f13",
   "metadata": {},
   "outputs": [],
   "source": [
    "# INPUT PARAMS\n",
    "input_acronym_dir = \"../data/grasps/\"\n",
    "input_shapenetsem_dir = \"../data/ShapeNetSem/models/\"\n",
    "input_shapenetsem_texture_dir = \"../data/ShapeNetSem/textures/\"\n",
    "output_shapenetsem_dir = (\n",
    "    \"../data/ShapeNetSem_restructured/\"\n",
    ")"
   ]
  },
  {
   "cell_type": "code",
   "execution_count": null,
   "id": "9fa32323",
   "metadata": {},
   "outputs": [],
   "source": [
    "print(\"=\" * 100)\n",
    "print(\"PARAMS\")\n",
    "print(\"=\" * 100)\n",
    "print(f\"input_acronym_dir: {input_acronym_dir}\")\n",
    "print(f\"input_shapenetsem_dir: {input_shapenetsem_dir}\")\n",
    "print(f\"input_shapenetsem_texture_dir: {input_shapenetsem_texture_dir}\")\n",
    "print(f\"output_shapenetsem_dir: {output_shapenetsem_dir}\")\n",
    "print()"
   ]
  },
  {
   "cell_type": "code",
   "execution_count": null,
   "id": "145d01f0",
   "metadata": {},
   "outputs": [],
   "source": [
    "# Check inputs\n",
    "if not os.path.exists(input_acronym_dir):\n",
    "    print(f\"input_acronym_dir: {input_acronym_dir} does not exist. Exiting.\")\n",
    "    exit()\n",
    "\n",
    "if not os.path.exists(input_shapenetsem_dir):\n",
    "    print(f\"input_shapenetsem_dir: {input_shapenetsem_dir} does not exist. Exiting.\")\n",
    "    exit()\n",
    "\n",
    "if not os.path.exists(input_shapenetsem_texture_dir):\n",
    "    print(f\"input_shapenetsem_texture_dir: {input_shapenetsem_texture_dir} does not exist. Exiting.\")\n",
    "    exit()\n",
    "\n",
    "if os.path.exists(output_shapenetsem_dir):\n",
    "    print(f\"output_shapenetsem_dir: {output_shapenetsem_dir} already exists. Exiting.\")\n",
    "    exit()"
   ]
  },
  {
   "cell_type": "code",
   "execution_count": null,
   "id": "4548cbfe",
   "metadata": {},
   "outputs": [],
   "source": [
    "print(\"=\" * 100)\n",
    "print(\"ACRONYM FILENAMES\")\n",
    "print(\"=\" * 100)\n",
    "acronym_filenames = os.listdir(input_acronym_dir)\n",
    "print(f\"Found {len(acronym_filenames)} files in {input_acronym_dir}\")\n",
    "print(f\"First 10 acronym_filenames: {acronym_filenames[:10]}\")\n",
    "print()"
   ]
  },
  {
   "cell_type": "code",
   "execution_count": null,
   "id": "919d3ed6",
   "metadata": {},
   "outputs": [],
   "source": [
    "# Get acronym obj filepaths from filename\n",
    "print(\"=\" * 100)\n",
    "print(\"ACRONYM OBJ FILEPATHS FROM FILENAME\")\n",
    "print(\"=\" * 100)\n",
    "acronym_obj_filepaths = [\n",
    "    os.path.join(\"meshes\", filename.split(\"_\")[0], filename.split(\"_\")[1]) + \".obj\"\n",
    "    for filename in acronym_filenames\n",
    "]\n",
    "print(f\"First 10 acronym_obj_filepaths: {acronym_obj_filepaths[:10]}\")\n",
    "print()"
   ]
  },
  {
   "cell_type": "code",
   "execution_count": null,
   "id": "79b2918d",
   "metadata": {},
   "outputs": [],
   "source": [
    "# Get acronym obj filepaths from within file\n",
    "print(\"=\" * 100)\n",
    "print(\"ACRONYM OBJ FILEPATHS FROM WITHIN FILE\")\n",
    "print(\"=\" * 100)\n",
    "acronym_obj_filepaths_2 = []\n",
    "for filename in tqdm(acronym_filenames):\n",
    "    with h5py.File(os.path.join(input_acronym_dir, filename), \"r\") as f:\n",
    "        obj_filepath = f[\"object/file\"][()].decode(\"utf-8\")\n",
    "        acronym_obj_filepaths_2.append(obj_filepath)\n",
    "print(f\"First 10 acronym_obj_filepaths_2: {acronym_obj_filepaths_2[:10]}\")"
   ]
  },
  {
   "cell_type": "code",
   "execution_count": null,
   "id": "5677b0b9",
   "metadata": {},
   "outputs": [],
   "source": [
    "assert acronym_obj_filepaths == acronym_obj_filepaths_2\n",
    "print(\"acronym_obj_filepaths == acronym_obj_filepaths_2\")\n",
    "print()"
   ]
  },
  {
   "cell_type": "code",
   "execution_count": null,
   "id": "ff8cde5b",
   "metadata": {
    "tags": []
   },
   "outputs": [],
   "source": [
    "# Make output dir\n",
    "print(f\"Making output dir: {output_shapenetsem_dir}\")\n",
    "os.makedirs(output_shapenetsem_dir)\n",
    "print(f\"Done making output dir: {output_shapenetsem_dir}\")"
   ]
  },
  {
   "cell_type": "code",
   "execution_count": null,
   "id": "f37ca9a6",
   "metadata": {
    "lines_to_next_cell": 1,
    "tags": []
   },
   "outputs": [],
   "source": [
    "import re\n",
    "\n",
    "def get_jpg_files_from_mtl(mtl_filepath):\n",
    "    jpg_files = []\n",
    "    with open(mtl_filepath, 'r') as f:\n",
    "        mtl_data = f.read()\n",
    "        matches = re.findall(r\"map_K[ad]\\s(.+\\.jpg)\", mtl_data)\n",
    "        for match in matches:\n",
    "            jpg_files.append(match)\n",
    "    return jpg_files"
   ]
  },
  {
   "cell_type": "code",
   "execution_count": null,
   "id": "c474a69c",
   "metadata": {},
   "outputs": [],
   "source": [
    "num_failed = 0\n",
    "for acronym_obj_filepath in (pbar := tqdm(acronym_obj_filepaths_2)):\n",
    "    pbar.set_description(f\"num_failed: {num_failed}\")\n",
    "    try:\n",
    "        # Multiple acronym files for the same mesh, skip if already copied\n",
    "        new_obj_filepath = os.path.join(output_shapenetsem_dir, acronym_obj_filepath)\n",
    "        if os.path.exists(new_obj_filepath):\n",
    "            print(\n",
    "                f\"Heads up: file {new_obj_filepath} already exists, but that is fine. Moving onto next file.\"\n",
    "            )\n",
    "            continue\n",
    "\n",
    "        # Multiple meshes for the same category, continue\n",
    "        new_dir = os.path.dirname(new_obj_filepath)\n",
    "        if os.path.exists(new_dir):\n",
    "            print(\n",
    "                f\"Heads up: dir {new_dir} already exists, but that is fine. Continuing.\"\n",
    "            )\n",
    "        os.makedirs(\n",
    "            new_dir, exist_ok=True\n",
    "        )  # can have more than one object in a category\n",
    "\n",
    "        # Copy obj file\n",
    "        cp_obj_command = \" \".join(\n",
    "            [\n",
    "                \"cp\",\n",
    "                os.path.join(input_shapenetsem_dir, os.path.basename(new_obj_filepath)),\n",
    "                new_obj_filepath,\n",
    "            ]\n",
    "        )\n",
    "        print(f\"Running {cp_obj_command}\")\n",
    "        subprocess.run(cp_obj_command, check=True, shell=True)\n",
    "\n",
    "        # Copy mtl file\n",
    "        cp_mtl_command = cp_obj_command.replace('.obj', '.mtl')\n",
    "        print(f\"Running {cp_mtl_command}\")\n",
    "        subprocess.run(cp_mtl_command, check=True, shell=True)\n",
    "\n",
    "        # Copy jpg file\n",
    "        new_mtl_filepath = new_obj_filepath.replace('.obj', '.mtl')\n",
    "        jpg_files = get_jpg_files_from_mtl(os.path.join(input_shapenetsem_dir, os.path.basename(new_mtl_filepath)))\n",
    "        for jpg_file in jpg_files:\n",
    "            cp_jpg_command = \" \".join(\n",
    "                    [\n",
    "                        \"cp\",\n",
    "                        os.path.join(input_shapenetsem_texture_dir, jpg_file),\n",
    "                        os.path.join(os.path.dirname(new_obj_filepath), jpg_file),\n",
    "                    ]\n",
    "            )\n",
    "            print(f\"Running {cp_jpg_command}\")\n",
    "            subprocess.run(cp_jpg_command, check=True, shell=True)\n",
    "\n",
    "    except subprocess.CalledProcessError as e:\n",
    "        num_failed += 1\n",
    "        print(\"=\" * 100)\n",
    "        print(f\"Error: {e} when processing {acronym_obj_filepath}. Skipping it.\")\n",
    "        print(\"=\" * 100)\n",
    "        print()"
   ]
  },
  {
   "cell_type": "code",
   "execution_count": null,
   "id": "83649c24-763b-49db-be08-8249d69cf9b0",
   "metadata": {},
   "outputs": [],
   "source": []
  }
 ],
 "metadata": {
  "jupytext": {
   "formats": "ipynb,py:percent"
  },
  "kernelspec": {
   "display_name": "Python 3 (ipykernel)",
   "language": "python",
   "name": "python3"
  },
  "language_info": {
   "codemirror_mode": {
    "name": "ipython",
    "version": 3
   },
   "file_extension": ".py",
   "mimetype": "text/x-python",
   "name": "python",
   "nbconvert_exporter": "python",
   "pygments_lexer": "ipython3",
   "version": "3.8.16"
  }
 },
 "nbformat": 4,
 "nbformat_minor": 5
}
