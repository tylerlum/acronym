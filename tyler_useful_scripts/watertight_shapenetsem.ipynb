{
 "cells": [
  {
   "cell_type": "markdown",
   "id": "c81b6747",
   "metadata": {
    "lines_to_next_cell": 2
   },
   "source": [
    "# Watertight ShapeNetSem\n",
    "\n",
    "## INPUTS\n",
    "\n",
    "```\n",
    "{input_acronym_dir}\n",
    "├── 1Shelves_12a64182bbaee7a12b2444829a3507de_0.00914554366969263.h5\n",
    "├── 1Shelves_160684937ae737ec5057ad0f363d6ddd_0.009562610447288044.h5\n",
    "├── 1Shelves_1e3df0ab57e8ca8587f357007f9e75d1_0.011099225885734912.h5\n",
    "├── 1Shelves_2b9d60c74bc0d18ad8eae9bce48bbeed_0.00614208274225087.h5\n",
    "\n",
    "{input_shapenetsem_dir}\n",
    "├── 1004f30be305f33d28a1548e344f0e2e.mtl\n",
    "├── 1004f30be305f33d28a1548e344f0e2e.obj\n",
    "├── 100f39dce7690f59efb94709f30ce0d2.mtl\n",
    "├── 100f39dce7690f59efb94709f30ce0d2.obj\n",
    "```\n",
    "\n",
    "## OUTPUTS\n",
    "\n",
    "```\n",
    "{output_watertight_shapenetsem_dir}\n",
    "├── 1004f30be305f33d28a1548e344f0e2e.mtl\n",
    "├── 1004f30be305f33d28a1548e344f0e2e.obj\n",
    "├── 100f39dce7690f59efb94709f30ce0d2.mtl\n",
    "├── 100f39dce7690f59efb94709f30ce0d2.obj\n",
    "```\n",
    "\n",
    "## NOTES\n",
    "\n",
    "* 24980 files in ShapeNetSem, half are mtl and half are obj, so total of 12490\n",
    "* 8836 files in grasps from acronym\n",
    "* each acronym file should have a corresponding shapenetsem file (8836 x 2 outputs for obj and mtl)\n",
    "* each acronym file has a filename path to mesh file that looks like meshes/Mug/10f6e09036350e92b3f21f1137c3c347.obj\n",
    "* the shapenetsem files have a name but they don't match exactly\n",
    "* there can be more than one mesh per category (eg. multiple under the TV directory)\n",
    "* there can also be more than one acronym file per mesh (eg. multiple grasps for the same mesh )\n",
    "  eg. \"data/grasps/TV_dfbce5e6cca00c1448627a76b6268107_0.0038627305095302734.h5\"\n",
    "      \"data/grasps/TV_dfbce5e6cca00c1448627a76b6268107_0.003957748840105706.h5\"\n",
    "\n",
    "SHOULD USE MANIFOLD (https://github.com/hjwdzh/Manifold), BUILD, AND COPY THIS SCRIPT TO THE MANIFOLD ROOT DIRECTORY"
   ]
  },
  {
   "cell_type": "code",
   "execution_count": null,
   "id": "5d2d598d-6eab-48dc-94c3-5d2d5217bc8b",
   "metadata": {
    "lines_to_next_cell": 2
   },
   "outputs": [],
   "source": [
    "import subprocess\n",
    "import os\n",
    "from tqdm import tqdm\n",
    "from typing import DefaultDict"
   ]
  },
  {
   "cell_type": "code",
   "execution_count": null,
   "id": "ed79b2e4",
   "metadata": {},
   "outputs": [],
   "source": [
    "# INPUT PARAMS\n",
    "input_acronym_dir = \"../data/grasps/\"\n",
    "input_shapenetsem_dir = \"../data/ShapeNetSem/models/\"\n",
    "temp_watertight_obj_filename = \"temp.watertight.obj\"\n",
    "output_watertight_shapenetsem_dir = \"WatertightShapeNetSem/models\""
   ]
  },
  {
   "cell_type": "code",
   "execution_count": null,
   "id": "6fa16ce7",
   "metadata": {},
   "outputs": [],
   "source": [
    "print(\"=\" * 100)\n",
    "print(f\"PARAMS\")\n",
    "print(\"=\" * 100)\n",
    "print(f\"input_acronym_dir: {input_acronym_dir}\")\n",
    "print(f\"input_shapenetsem_dir: {input_shapenetsem_dir}\")\n",
    "print(f\"temp_watertight_obj_filename: {temp_watertight_obj_filename}\")\n",
    "print(f\"output_watertight_shapenetsem_dir: {output_watertight_shapenetsem_dir}\")\n",
    "print()"
   ]
  },
  {
   "cell_type": "code",
   "execution_count": null,
   "id": "412027d0",
   "metadata": {},
   "outputs": [],
   "source": [
    "# Check inputs\n",
    "if not os.path.exists(input_acronym_dir):\n",
    "    print(f\"input_acronym_dir: {input_acronym_dir} does not exist. Exiting.\")\n",
    "    exit()\n",
    "\n",
    "if not os.path.exists(input_shapenetsem_dir):\n",
    "    print(f\"input_shapenetsem_dir: {input_shapenetsem_dir} does not exist. Exiting.\")\n",
    "    exit()\n",
    "\n",
    "if os.path.exists(temp_watertight_obj_filename):\n",
    "    print(\n",
    "        f\"temp_watertight_obj_filename: {temp_watertight_obj_filename} already exists. Removing it and continuing.\"\n",
    "    )\n",
    "    subprocess.run(f\"rm {temp_watertight_obj_filename}\", shell=True, check=True)\n",
    "\n",
    "if os.path.exists(output_watertight_shapenetsem_dir):\n",
    "    print(\n",
    "        f\"output_watertight_shapenetsem_dir: {output_watertight_shapenetsem_dir} already exists. Exiting.\"\n",
    "    )\n",
    "    exit()"
   ]
  },
  {
   "cell_type": "code",
   "execution_count": null,
   "id": "eda13b3c",
   "metadata": {},
   "outputs": [],
   "source": [
    "# Get acronym obj hashes\n",
    "print(\"=\" * 100)\n",
    "print(f\"ACRONYM OBJ HASHES\")\n",
    "print(\"=\" * 100)\n",
    "acronym_filenames = os.listdir(input_acronym_dir)\n",
    "print(f\"Found {len(acronym_filenames)} files in {input_acronym_dir}\")\n",
    "print(f\"First 10 acronym_filenames: {acronym_filenames[:10]}\")\n",
    "acronym_obj_hashes = [filename.split(\"_\")[1] for filename in acronym_filenames]\n",
    "print(f\"First 10 acronym_obj_hashes: {acronym_obj_hashes[:10]}\")"
   ]
  },
  {
   "cell_type": "code",
   "execution_count": null,
   "id": "32a818f7",
   "metadata": {},
   "outputs": [],
   "source": [
    "# Print information about acronym obj hashes (some may be off)\n",
    "len_to_hashes = DefaultDict(list)\n",
    "for obj_hash in acronym_obj_hashes:\n",
    "    len_to_hashes[len(obj_hash)].append(obj_hash)\n",
    "len_to_freq = {length: len(hashes) for length, hashes in len_to_hashes.items()}\n",
    "print(f\"len_to_freq: {len_to_freq}\")\n",
    "print(\"Example of each:\")\n",
    "for length, hashes in len_to_hashes.items():\n",
    "    print(f\"length: {length}, hash: {hashes[0]}\")\n",
    "acronym_obj_hashes = set(acronym_obj_hashes)\n",
    "print()"
   ]
  },
  {
   "cell_type": "code",
   "execution_count": null,
   "id": "99baaa22",
   "metadata": {},
   "outputs": [],
   "source": [
    "# Get all filenames\n",
    "print(\"=\" * 100)\n",
    "print(f\"SHAPENET FILENAMES\")\n",
    "print(\"=\" * 100)\n",
    "shapenet_filenames = os.listdir(input_shapenetsem_dir)\n",
    "print(f\"Found {len(shapenet_filenames)} files in {input_shapenetsem_dir}\")\n",
    "print(f\"First 10 shapenet_filenames: {shapenet_filenames[:10]}\")\n",
    "shapenet_filenames.sort()"
   ]
  },
  {
   "cell_type": "code",
   "execution_count": null,
   "id": "6d9ff9ef",
   "metadata": {},
   "outputs": [],
   "source": [
    "obj_filenames = [\n",
    "    filename for filename in shapenet_filenames if filename.endswith(\".obj\")\n",
    "]\n",
    "mtl_filenames = [\n",
    "    filename for filename in shapenet_filenames if filename.endswith(\".mtl\")\n",
    "]\n",
    "assert len(obj_filenames) == len(mtl_filenames)"
   ]
  },
  {
   "cell_type": "code",
   "execution_count": null,
   "id": "7ce64702",
   "metadata": {},
   "outputs": [],
   "source": [
    "# Sanity check\n",
    "for obj_filename, mtl_filename in zip(obj_filenames, mtl_filenames):\n",
    "    obj_filename_without_ext, obj_ext = os.path.splitext(obj_filename)\n",
    "    mtl_filename_without_ext, mtl_ext = os.path.splitext(mtl_filename)\n",
    "    assert obj_filename_without_ext == mtl_filename_without_ext\n",
    "    assert obj_ext == \".obj\"\n",
    "    assert mtl_ext == \".mtl\""
   ]
  },
  {
   "cell_type": "code",
   "execution_count": null,
   "id": "24ca9481",
   "metadata": {},
   "outputs": [],
   "source": [
    "# Filter out non-acronym obj hashes\n",
    "obj_filenames = [\n",
    "    obj_filename\n",
    "    for obj_filename in obj_filenames\n",
    "    if os.path.splitext(obj_filename)[0] in acronym_obj_hashes\n",
    "]\n",
    "mtl_filenames = [\n",
    "    mtl_filename\n",
    "    for mtl_filename in mtl_filenames\n",
    "    if os.path.splitext(mtl_filename)[0] in acronym_obj_hashes\n",
    "]\n",
    "print(\n",
    "    f\"Filtered down to {len(obj_filenames)} obj_filenames and {len(mtl_filenames)} mtl_filenames\"\n",
    ")\n",
    "print()"
   ]
  },
  {
   "cell_type": "code",
   "execution_count": null,
   "id": "fa0c4f38",
   "metadata": {},
   "outputs": [],
   "source": [
    "# Make output dir\n",
    "print(f\"Making output dir: {output_watertight_shapenetsem_dir}\")\n",
    "os.makedirs(output_watertight_shapenetsem_dir)\n",
    "print(f\"Done making output dir: {output_watertight_shapenetsem_dir}\")"
   ]
  },
  {
   "cell_type": "code",
   "execution_count": null,
   "id": "42658c27",
   "metadata": {
    "tags": []
   },
   "outputs": [],
   "source": [
    "num_failed = 0\n",
    "for obj_filename, mtl_filename in (\n",
    "    pbar := tqdm(zip(obj_filenames, mtl_filenames), total=len(obj_filenames))\n",
    "):\n",
    "    pbar.set_description(f\"num_failed: {num_failed}\")\n",
    "    try:\n",
    "        obj_filename_without_ext, obj_ext = os.path.splitext(obj_filename)\n",
    "        mtl_filename_without_ext, mtl_ext = os.path.splitext(mtl_filename)\n",
    "        assert obj_filename_without_ext == mtl_filename_without_ext\n",
    "        assert obj_ext == \".obj\"\n",
    "        assert mtl_ext == \".mtl\"\n",
    "\n",
    "        input_obj_filepath = os.path.join(input_shapenetsem_dir, obj_filename)\n",
    "        watertight_mesh_command = (\n",
    "            f\"./build/manifold {input_obj_filepath} {temp_watertight_obj_filename} -s\"\n",
    "        )\n",
    "        print(f\"watertight_mesh_command: {watertight_mesh_command}\")\n",
    "        subprocess.run(watertight_mesh_command, shell=True, check=True)\n",
    "\n",
    "        output_obj_filepath = os.path.join(\n",
    "            output_watertight_shapenetsem_dir, obj_filename\n",
    "        )\n",
    "        simplify_command = f\"./build/simplify -i {temp_watertight_obj_filename} -o {output_obj_filepath} -m -r 0.02\"\n",
    "        print(f\"simplify_command: {simplify_command}\")\n",
    "        subprocess.run(simplify_command, shell=True, check=True)\n",
    "\n",
    "        rm_command = f\"rm {temp_watertight_obj_filename}\"\n",
    "        subprocess.run(rm_command, shell=True, check=True)\n",
    "\n",
    "        print()\n",
    "    except subprocess.CalledProcessError as e:\n",
    "        num_failed += 1\n",
    "        print(\"=\" * 100)\n",
    "        print(\n",
    "            f\"Error: {e} when processing {obj_filename} and {mtl_filename}. Skipping it.\"\n",
    "        )\n",
    "        print(\"=\" * 100)\n",
    "        print()"
   ]
  }
 ],
 "metadata": {
  "jupytext": {
   "formats": "ipynb,py:percent"
  },
  "kernelspec": {
   "display_name": "Python 3 (ipykernel)",
   "language": "python",
   "name": "python3"
  },
  "language_info": {
   "codemirror_mode": {
    "name": "ipython",
    "version": 3
   },
   "file_extension": ".py",
   "mimetype": "text/x-python",
   "name": "python",
   "nbconvert_exporter": "python",
   "pygments_lexer": "ipython3",
   "version": "3.8.16"
  }
 },
 "nbformat": 4,
 "nbformat_minor": 5
}
